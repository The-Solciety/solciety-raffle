{
  "nbformat": 4,
  "nbformat_minor": 0,
  "metadata": {
    "colab": {
      "name": "Raffle selector.ipynb",
      "provenance": [],
      "collapsed_sections": []
    },
    "kernelspec": {
      "name": "python3",
      "display_name": "Python 3"
    },
    "language_info": {
      "name": "python"
    }
  },
  "cells": [
    {
      "cell_type": "code",
      "source": [
        "from google.colab import drive\n",
        "drive.mount('/content/drive')"
      ],
      "metadata": {
        "id": "Di2gp5h8mhc1"
      },
      "execution_count": null,
      "outputs": []
    },
    {
      "cell_type": "markdown",
      "source": [
        "##**Selecting a Bitcoin Block Number**\n",
        "\n",
        "The randomisation process uses a future bitcoin block to ensure the process is completely random. Follow the steps to get a future bitcoin block number.\n",
        "\n",
        "1. Visit [https://blockexplorer.one/bitcoin/mainnet/](https://blockexplorer.one/bitcoin/mainnet/)\n",
        "2. Record down the current Bitcoin **Block Height** \n",
        "3. Add 10 to this number (this will be drawn in approximately 100 minutes).\n",
        "4. Post the selected block height through twitter and discord so that the community can trust that we have made the selection at random.\n",
        "5. Keep a note of this future block height\n",
        "\n"
      ],
      "metadata": {
        "id": "VtiY4vZGvyUD"
      }
    },
    {
      "cell_type": "markdown",
      "source": [
        "## **Running the Raffle**\n",
        "\n",
        "  1. Visit Raffle Dashboard: https://staking.thesolciety.gg/dashboard  \n",
        "\n",
        "2. Once the Raffle has finished, Click “View” and “Export CSV”, this will download a file named “RAFFLE_SOLD_ID_XXXXXXX”. \n",
        "3. Drag this file into the left sidebar on Google Colab - \"Files\"\n",
        "4. Copy the script codeblock below and paste into the \"Raffles\" section labelling it with the week number\n",
        "5. To run the script for this week, replace the **Block Number** with the chosen Block from before (This should be in the future), and **“RAFFLE_SOLD_ID_XXXXX”** with the correct file name from Step 3 (Right click > Rename). Then press the Right Arrow button on the left of the code block.\n",
        "   * This will overwrite the prizes.csv file and select 200 new winners. It is important to ONLY run this script once you have posted out the block height on social media."
      ],
      "metadata": {
        "id": "APpu88vYuY8d"
      }
    },
    {
      "cell_type": "code",
      "source": [
        "#@title Raffle Script Week 0\n",
        "# @markdown Blockheight 733700\n",
        "!python /content/raffle.py 733000 RAFFLE_SOLD_ID_kzBVjGwYr25AkdHFMqIt_20220427030646.csv\n"
      ],
      "metadata": {
        "id": "vykg-mY_uJLV",
        "colab": {
          "base_uri": "https://localhost:8080/"
        },
        "outputId": "3b078223-d37a-4a86-f3d8-1220439a7393"
      },
      "execution_count": null,
      "outputs": [
        {
          "output_type": "stream",
          "name": "stdout",
          "text": [
            "python3: can't open file '/content/raffle.py': [Errno 2] No such file or directory\n"
          ]
        }
      ]
    },
    {
      "cell_type": "markdown",
      "source": [
        "\n",
        "5. Download and send a copy of the prizes.csv file into our Solciety Operations discord so that we have a backup record. This file will be reused for the entire 6 month period.\n",
        "6. Filter the file to extract the winner addresses form this raffle and send out the prizes"
      ],
      "metadata": {
        "id": "fye6N6SCv6Qp"
      }
    },
    {
      "cell_type": "markdown",
      "source": [
        "## Raffles"
      ],
      "metadata": {
        "id": "tN4dfs7Tyvic"
      }
    },
    {
      "cell_type": "code",
      "source": [
        "#@title Raffle Script Week 0\n",
        "#@markdown Blockheight 734540\n",
        "!python /content/raffle.py 734540 RAFFLE_SOLD_ID_kzBVjGwYr25AkdHFMqIt_20220427030646.csv\n"
      ],
      "metadata": {
        "id": "a5UKGn9E26Sd",
        "colab": {
          "base_uri": "https://localhost:8080/"
        },
        "outputId": "dc31d850-f8ff-4481-ebd1-c7cce343d7f9"
      },
      "execution_count": null,
      "outputs": [
        {
          "output_type": "stream",
          "name": "stdout",
          "text": [
            "python3: can't open file '/content/raffle.py': [Errno 2] No such file or directory\n"
          ]
        }
      ]
    },
    {
      "cell_type": "code",
      "source": [
        "#@title Raffle Script Week 1\n",
        "!python /content/raffle.py 731000 RAFFLE_SOLD_ID_Ht51rF1p6GDANY2SqcKc_20220409052351.csv\n"
      ],
      "metadata": {
        "id": "b0W8X1m9zIbT"
      },
      "execution_count": null,
      "outputs": []
    }
  ]
}